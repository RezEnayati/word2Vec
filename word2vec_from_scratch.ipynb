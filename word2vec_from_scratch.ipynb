{
  "nbformat": 4,
  "nbformat_minor": 0,
  "metadata": {
    "colab": {
      "provenance": [],
      "gpuType": "T4"
    },
    "kernelspec": {
      "name": "python3",
      "display_name": "Python 3"
    },
    "language_info": {
      "name": "python"
    },
    "accelerator": "GPU"
  },
  "cells": [
    {
      "cell_type": "code",
      "execution_count": 1,
      "metadata": {
        "id": "jFnL2juFDMXe"
      },
      "outputs": [],
      "source": [
        "import numpy\n",
        "import collections\n",
        "import random\n",
        "import math\n",
        "import re"
      ]
    },
    {
      "cell_type": "code",
      "source": [
        "corpus = \"He is the king. The king is royal. She's the (royal) queen!\""
      ],
      "metadata": {
        "id": "-h8DwnqOD3nc"
      },
      "execution_count": 2,
      "outputs": []
    },
    {
      "cell_type": "code",
      "source": [
        "def tokenize(corpus):\n",
        "  sentences = re.split(r'[.!?]', corpus) # seperate into sentences\n",
        "  sentences = [s.strip() for s in sentences if s.strip() != \"\"] #removes white space\n",
        "  sentences = [re.sub(r'[^a-zA-Z\\s\\']', \"\", s ) for s in sentences] #remove the puncations\n",
        "  tokens = [s.lower().split() for s in sentences] # tokenize\n",
        "  return tokens"
      ],
      "metadata": {
        "id": "6IqCzgdcD7yA"
      },
      "execution_count": 3,
      "outputs": []
    },
    {
      "cell_type": "code",
      "source": [
        "def unique_vocab(token):\n",
        "  return list(set([word for token in tokens for word in token])) #flatten and create set to get unique words"
      ],
      "metadata": {
        "id": "cZLkez7BMoFc"
      },
      "execution_count": 4,
      "outputs": []
    },
    {
      "cell_type": "code",
      "source": [
        "def vocabulary_builder(tokens):\n",
        "  unique = unique_vocab(tokens)\n",
        "  word2idx = {word:i for i,word in enumerate(unique)} # word to index dictionary\n",
        "  idx2word = {i:word for i,word in enumerate(unique)} # index to word dictionary\n",
        "  return word2idx, idx2word"
      ],
      "metadata": {
        "id": "T1IEF1yrFxgP"
      },
      "execution_count": 5,
      "outputs": []
    },
    {
      "cell_type": "code",
      "source": [
        "tokens = tokenize(corpus)\n",
        "word2idx, idx2word = vocabulary_builder(tokens)\n",
        "print(idx2word)\n",
        "print(word2idx)"
      ],
      "metadata": {
        "colab": {
          "base_uri": "https://localhost:8080/"
        },
        "id": "Ysp67ikoFz0U",
        "outputId": "e21d5404-2475-4016-d591-8a91e33643d3"
      },
      "execution_count": 6,
      "outputs": [
        {
          "output_type": "stream",
          "name": "stdout",
          "text": [
            "{0: 'is', 1: 'queen', 2: 'royal', 3: 'he', 4: 'the', 5: 'king', 6: \"she's\"}\n",
            "{'is': 0, 'queen': 1, 'royal': 2, 'he': 3, 'the': 4, 'king': 5, \"she's\": 6}\n"
          ]
        }
      ]
    },
    {
      "cell_type": "code",
      "source": [],
      "metadata": {
        "id": "V7m0gIoHLL4g"
      },
      "execution_count": 99,
      "outputs": []
    }
  ]
}